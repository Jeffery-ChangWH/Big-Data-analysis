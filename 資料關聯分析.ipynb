{
 "cells": [
  {
   "cell_type": "code",
   "execution_count": 2,
   "metadata": {},
   "outputs": [
    {
     "name": "stdout",
     "output_type": "stream",
     "text": [
      "Collecting mlxtend\n",
      "  Downloading mlxtend-0.17.3-py2.py3-none-any.whl (1.3 MB)\n",
      "Requirement already satisfied: numpy>=1.16.2 in c:\\users\\acer\\appdata\\local\\programs\\python\\python35\\lib\\site-packages (from mlxtend) (1.16.6)\n",
      "Requirement already satisfied: setuptools in c:\\users\\acer\\appdata\\local\\programs\\python\\python35\\lib\\site-packages (from mlxtend) (49.2.0)\n",
      "Requirement already satisfied: scipy>=1.2.1 in c:\\users\\acer\\appdata\\local\\programs\\python\\python35\\lib\\site-packages (from mlxtend) (1.4.1)\n",
      "Requirement already satisfied: pandas>=0.24.2 in c:\\users\\acer\\appdata\\local\\programs\\python\\python35\\lib\\site-packages (from mlxtend) (0.25.3)\n",
      "Requirement already satisfied: joblib>=0.13.2 in c:\\users\\acer\\appdata\\local\\programs\\python\\python35\\lib\\site-packages (from mlxtend) (0.14.1)\n",
      "Requirement already satisfied: scikit-learn>=0.20.3 in c:\\users\\acer\\appdata\\local\\programs\\python\\python35\\lib\\site-packages (from mlxtend) (0.22.2.post1)\n",
      "Requirement already satisfied: matplotlib>=3.0.0 in c:\\users\\acer\\appdata\\local\\programs\\python\\python35\\lib\\site-packages (from mlxtend) (3.0.3)\n",
      "Requirement already satisfied: pytz>=2017.2 in c:\\users\\acer\\appdata\\local\\programs\\python\\python35\\lib\\site-packages (from pandas>=0.24.2->mlxtend) (2020.1)\n",
      "Requirement already satisfied: python-dateutil>=2.6.1 in c:\\users\\acer\\appdata\\local\\programs\\python\\python35\\lib\\site-packages (from pandas>=0.24.2->mlxtend) (2.8.1)\n",
      "Requirement already satisfied: cycler>=0.10 in c:\\users\\acer\\appdata\\local\\programs\\python\\python35\\lib\\site-packages (from matplotlib>=3.0.0->mlxtend) (0.10.0)\n",
      "Requirement already satisfied: kiwisolver>=1.0.1 in c:\\users\\acer\\appdata\\local\\programs\\python\\python35\\lib\\site-packages (from matplotlib>=3.0.0->mlxtend) (1.1.0)\n",
      "Requirement already satisfied: pyparsing!=2.0.4,!=2.1.2,!=2.1.6,>=2.0.1 in c:\\users\\acer\\appdata\\local\\programs\\python\\python35\\lib\\site-packages (from matplotlib>=3.0.0->mlxtend) (2.4.7)\n",
      "Requirement already satisfied: six>=1.5 in c:\\users\\acer\\appdata\\local\\programs\\python\\python35\\lib\\site-packages (from python-dateutil>=2.6.1->pandas>=0.24.2->mlxtend) (1.15.0)\n",
      "Installing collected packages: mlxtend\n",
      "Successfully installed mlxtend-0.17.3\n"
     ]
    },
    {
     "name": "stderr",
     "output_type": "stream",
     "text": [
      "WARNING: You are using pip version 20.2; however, version 20.2.4 is available.\n",
      "You should consider upgrading via the 'c:\\users\\acer\\appdata\\local\\programs\\python\\python35\\python.exe -m pip install --upgrade pip' command.\n"
     ]
    }
   ],
   "source": [
    "! pip install mlxtend"
   ]
  },
  {
   "cell_type": "code",
   "execution_count": 3,
   "metadata": {},
   "outputs": [
    {
     "ename": "SyntaxError",
     "evalue": "invalid syntax (fpcommon.py, line 79)",
     "output_type": "error",
     "traceback": [
      "Traceback \u001b[1;36m(most recent call last)\u001b[0m:\n",
      "  File \u001b[0;32m\"c:\\users\\acer\\appdata\\local\\programs\\python\\python35\\lib\\site-packages\\IPython\\core\\interactiveshell.py\"\u001b[0m, line \u001b[0;32m3326\u001b[0m, in \u001b[0;35mrun_code\u001b[0m\n    exec(code_obj, self.user_global_ns, self.user_ns)\n",
      "  File \u001b[0;32m\"<ipython-input-3-b72b90f40092>\"\u001b[0m, line \u001b[0;32m7\u001b[0m, in \u001b[0;35m<module>\u001b[0m\n    from mlxtend.frequent_patterns import apriori\n",
      "  File \u001b[0;32m\"c:\\users\\acer\\appdata\\local\\programs\\python\\python35\\lib\\site-packages\\mlxtend\\frequent_patterns\\__init__.py\"\u001b[0m, line \u001b[0;32m7\u001b[0m, in \u001b[0;35m<module>\u001b[0m\n    from .apriori import apriori\n",
      "\u001b[1;36m  File \u001b[1;32m\"c:\\users\\acer\\appdata\\local\\programs\\python\\python35\\lib\\site-packages\\mlxtend\\frequent_patterns\\apriori.py\"\u001b[1;36m, line \u001b[1;32m9\u001b[1;36m, in \u001b[1;35m<module>\u001b[1;36m\u001b[0m\n\u001b[1;33m    from ..frequent_patterns import fpcommon as fpc\u001b[0m\n",
      "\u001b[1;36m  File \u001b[1;32m\"c:\\users\\acer\\appdata\\local\\programs\\python\\python35\\lib\\site-packages\\mlxtend\\frequent_patterns\\fpcommon.py\"\u001b[1;36m, line \u001b[1;32m79\u001b[0m\n\u001b[1;33m    if f\"{type(df)}\" == \"<class 'pandas.core.frame.SparseDataFrame'>\":\u001b[0m\n\u001b[1;37m                   ^\u001b[0m\n\u001b[1;31mSyntaxError\u001b[0m\u001b[1;31m:\u001b[0m invalid syntax\n"
     ]
    }
   ],
   "source": [
    "# associationRrule-01.py\n",
    "import pandas as pd\n",
    "\n",
    "#傳入模型的資料需要滿足特定的格式，可以用這種方法來轉換為\n",
    "# boolean值，也可以用函式轉換為 0、1\n",
    "from mlxtend.preprocessing import TransactionEncoder\n",
    "from mlxtend.frequent_patterns import apriori\n",
    "\n"
   ]
  },
  {
   "cell_type": "code",
   "execution_count": 5,
   "metadata": {},
   "outputs": [],
   "source": [
    "''' 1.建立資料：'''\n",
    "dataset = [['牛奶','麵包','餅乾','柳橙汁'],\n",
    "      ['麵包','餅乾','汽水','泡麵'],\n",
    "      ['牛奶','餅乾','水果'],\n",
    "      ['牛奶','麵包','柳橙汁','泡麵','水果'],\n",
    "      ['餅乾','汽水','水果']]  #List資料結構\n"
   ]
  },
  {
   "cell_type": "code",
   "execution_count": 10,
   "metadata": {},
   "outputs": [
    {
     "data": {
      "text/html": [
       "<div>\n",
       "<style scoped>\n",
       "    .dataframe tbody tr th:only-of-type {\n",
       "        vertical-align: middle;\n",
       "    }\n",
       "\n",
       "    .dataframe tbody tr th {\n",
       "        vertical-align: top;\n",
       "    }\n",
       "\n",
       "    .dataframe thead th {\n",
       "        text-align: right;\n",
       "    }\n",
       "</style>\n",
       "<table border=\"1\" class=\"dataframe\">\n",
       "  <thead>\n",
       "    <tr style=\"text-align: right;\">\n",
       "      <th></th>\n",
       "      <th>柳橙汁</th>\n",
       "      <th>水果</th>\n",
       "      <th>汽水</th>\n",
       "      <th>泡麵</th>\n",
       "      <th>牛奶</th>\n",
       "      <th>餅乾</th>\n",
       "      <th>麵包</th>\n",
       "    </tr>\n",
       "  </thead>\n",
       "  <tbody>\n",
       "    <tr>\n",
       "      <th>0</th>\n",
       "      <td>True</td>\n",
       "      <td>False</td>\n",
       "      <td>False</td>\n",
       "      <td>False</td>\n",
       "      <td>True</td>\n",
       "      <td>True</td>\n",
       "      <td>True</td>\n",
       "    </tr>\n",
       "    <tr>\n",
       "      <th>1</th>\n",
       "      <td>False</td>\n",
       "      <td>False</td>\n",
       "      <td>True</td>\n",
       "      <td>True</td>\n",
       "      <td>False</td>\n",
       "      <td>True</td>\n",
       "      <td>True</td>\n",
       "    </tr>\n",
       "    <tr>\n",
       "      <th>2</th>\n",
       "      <td>False</td>\n",
       "      <td>True</td>\n",
       "      <td>False</td>\n",
       "      <td>False</td>\n",
       "      <td>True</td>\n",
       "      <td>True</td>\n",
       "      <td>False</td>\n",
       "    </tr>\n",
       "    <tr>\n",
       "      <th>3</th>\n",
       "      <td>True</td>\n",
       "      <td>True</td>\n",
       "      <td>False</td>\n",
       "      <td>True</td>\n",
       "      <td>True</td>\n",
       "      <td>False</td>\n",
       "      <td>True</td>\n",
       "    </tr>\n",
       "    <tr>\n",
       "      <th>4</th>\n",
       "      <td>False</td>\n",
       "      <td>True</td>\n",
       "      <td>True</td>\n",
       "      <td>False</td>\n",
       "      <td>False</td>\n",
       "      <td>True</td>\n",
       "      <td>False</td>\n",
       "    </tr>\n",
       "  </tbody>\n",
       "</table>\n",
       "</div>"
      ],
      "text/plain": [
       "     柳橙汁     水果     汽水     泡麵     牛奶     餅乾     麵包\n",
       "0   True  False  False  False   True   True   True\n",
       "1  False  False   True   True  False   True   True\n",
       "2  False   True  False  False   True   True  False\n",
       "3   True   True  False   True   True  False   True\n",
       "4  False   True   True  False  False   True  False"
      ]
     },
     "execution_count": 10,
     "metadata": {},
     "output_type": "execute_result"
    }
   ],
   "source": [
    "''' 2.轉換為模型可接受的資料格式：'''\n",
    "#由於 mlxtend的模型只接受特定的資料格式。\n",
    "# TransactionEncoder()：每個值轉換為一個唯一的 boolean值\n",
    "oht = TransactionEncoder()  #定義模型物件one-hot-encoding\n",
    "oht_ary = oht.fit(dataset).transform(dataset)\n",
    "#顯示：True/False\n",
    "df = pd.DataFrame(oht_ary, columns=oht.columns_)\n",
    "df\n"
   ]
  },
  {
   "cell_type": "code",
   "execution_count": null,
   "metadata": {},
   "outputs": [],
   "source": []
  }
 ],
 "metadata": {
  "kernelspec": {
   "display_name": "Python 3",
   "language": "python",
   "name": "python3"
  },
  "language_info": {
   "codemirror_mode": {
    "name": "ipython",
    "version": 3
   },
   "file_extension": ".py",
   "mimetype": "text/x-python",
   "name": "python",
   "nbconvert_exporter": "python",
   "pygments_lexer": "ipython3",
   "version": "3.5.4"
  }
 },
 "nbformat": 4,
 "nbformat_minor": 4
}
